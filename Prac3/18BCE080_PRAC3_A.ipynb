{
 "cells": [
  {
   "cell_type": "markdown",
   "metadata": {},
   "source": [
    "# Implementing Simple Linear Regression using Gradient Descent\n"
   ]
  },
  {
   "cell_type": "markdown",
   "metadata": {},
   "source": [
    "**Importing required libraries**"
   ]
  },
  {
   "cell_type": "code",
   "execution_count": 1,
   "metadata": {},
   "outputs": [],
   "source": [
    "import numpy as np\n",
    "from sklearn import metrics, datasets\n",
    "from sklearn.preprocessing import StandardScaler"
   ]
  },
  {
   "cell_type": "code",
   "execution_count": 2,
   "metadata": {},
   "outputs": [],
   "source": [
    "X,y = datasets.load_boston(return_X_y = True)\n",
    "X = X[:,12]"
   ]
  },
  {
   "cell_type": "markdown",
   "metadata": {},
   "source": [
    "**Dividing the data into training set and testing set**"
   ]
  },
  {
   "cell_type": "code",
   "execution_count": 3,
   "metadata": {
    "scrolled": true
   },
   "outputs": [
    {
     "name": "stdout",
     "output_type": "stream",
     "text": [
      "Shape of training data: (400, 2)\n",
      "Shape of training result: (400, 1)\n"
     ]
    }
   ],
   "source": [
    "X_train = X[0:400]\n",
    "\n",
    "# create a temp array with all zeros of shape (400,2) for adding one extra column of ones\n",
    "shape_tuple = (X_train.shape[0],2);\n",
    "X_temp = np.zeros(shape_tuple)\n",
    "\n",
    "# create a column vector of shape (400,1) containing all the ones for X0\n",
    "column1 = np.ones(X_train.shape[0])\n",
    "\n",
    "# add this column as the first column of X_temp\n",
    "X_temp[:,0] = column1;\n",
    "\n",
    "# add the rest of the training data to it and finally assign it back to X_train\n",
    "X_temp[:,1:] = X_train.reshape(X_train.shape[0],1);\n",
    "X_train = X_temp;\n",
    "print(\"Shape of training data: {}\".format(X_train.shape))\n",
    "\n",
    "\n",
    "# getting our y_train vector\n",
    "y_train = y[0:400]\n",
    "y_train = y_train.reshape(y_train.shape[0],1)\n",
    "print(\"Shape of training result: {}\".format(y_train.shape))"
   ]
  },
  {
   "cell_type": "code",
   "execution_count": 4,
   "metadata": {},
   "outputs": [
    {
     "name": "stdout",
     "output_type": "stream",
     "text": [
      "(106,)\n",
      "Shape of testing data: (106, 2)\n",
      "Shape of testing result: (106, 1)\n"
     ]
    }
   ],
   "source": [
    "# remaining data will be our testing data\n",
    "\n",
    "X_test = X[400:]\n",
    "print(X_test.shape)\n",
    "\n",
    "# create a temp array with all zeros of shape (400,2) for adding one extra column of ones\n",
    "shape_tuple = (X_test.shape[0],2);\n",
    "X_temp = np.zeros(shape_tuple)\n",
    "\n",
    "# create a column vector of shape (400,1) containing all the ones for X0\n",
    "column1 = np.ones(X_test.shape[0])\n",
    "\n",
    "# add this column as the first column of X_temp\n",
    "X_temp[:,0] = column1;\n",
    "\n",
    "# add the rest of the training data to it and finally assign it back to X_train\n",
    "X_temp[:,1:] = X_test.reshape(X_test.shape[0],1)\n",
    "X_test = X_temp\n",
    "print(\"Shape of testing data: {}\".format(X_test.shape))\n",
    "\n",
    "# getting our y_test vector\n",
    "y_test = y[400:]\n",
    "y_test = y_test.reshape(y_test.shape[0],1)\n",
    "print(\"Shape of testing result: {}\".format(y_test.shape))"
   ]
  },
  {
   "cell_type": "markdown",
   "metadata": {},
   "source": [
    "**Performing feature scaling**"
   ]
  },
  {
   "cell_type": "code",
   "execution_count": 5,
   "metadata": {
    "scrolled": true
   },
   "outputs": [
    {
     "name": "stdout",
     "output_type": "stream",
     "text": [
      "[[0.55427853]\n",
      " [0.96249483]]\n"
     ]
    }
   ],
   "source": [
    "# initializing the theta vector with random uniform values between 0 and 1\n",
    "# shape of theta is (2,1)\n",
    "theta = np.random.uniform(0,1,(X_train.shape[1],1))\n",
    "print(theta)\n",
    "\n",
    "# feature scaling the X_train data to bring the range of values of all columns in [0,1]\n",
    "scaler = StandardScaler()\n",
    "\n",
    "# ftting the data (i.e. finding out the mean and standard dev for normalization)\n",
    "scaler.fit(X_train[:,1:])\n",
    "\n",
    "# scaling the data and assigning it back to X_train and X_test\n",
    "X_train[:,1:] = scaler.transform(X_train[:,1:])\n",
    "X_test[:,1:] = scaler.transform(X_test[:,1:])"
   ]
  },
  {
   "cell_type": "markdown",
   "metadata": {},
   "source": [
    "**Performing Gradient Descent**"
   ]
  },
  {
   "cell_type": "code",
   "execution_count": 6,
   "metadata": {
    "scrolled": true
   },
   "outputs": [
    {
     "name": "stdout",
     "output_type": "stream",
     "text": [
      "Theta vector:  [[23.91190055]\n",
      " [-6.28643551]]\n",
      "Theta shape:  (2, 1)\n"
     ]
    }
   ],
   "source": [
    "epochs = 400\n",
    "alpha = 0.01\n",
    "m = X_train.shape[0]\n",
    "n = X_train.shape[1]\n",
    "j_history = np.zeros(epochs);\n",
    "iterations = np.zeros(epochs);\n",
    "\n",
    "for i in range(0,epochs+1):\n",
    "#     calculating the hypothesis function/ y_predicted by dot product of X_train and theta\n",
    "#     X_train.shape = (400,2), theta.shape = (2,1), thus h.shape = (400,1). \n",
    "#     This way we predict 400 values from the given data\n",
    "\n",
    "    h = np.dot(X_train,theta)\n",
    "    \n",
    "    \n",
    "#     calculating the error between the original and the predicted values\n",
    "#     h.shape = y_train.shape = (400,1), error.shape = (400,1)\n",
    "    error = h - y_train;\n",
    "    \n",
    "    \n",
    "#     reducing theta by the formula theta = theta - (alpha/m) * sum(h(i)-y(i)).x(i)\n",
    "#     X_train.shape = (400,2), error.shape(400,1), thus we take transpose of X_train to give theta.shape = (2,1)\n",
    "    theta = theta - ((alpha/m) * (X_train.T.dot(error)))\n",
    "    \n",
    "    if (i != epochs):\n",
    "        j_history[i] = (1/(2*m)) * np.sum((h-y_train)**2)\n",
    "        iterations[i] = i\n",
    "    \n",
    "print(\"Theta vector: \", theta)\n",
    "print(\"Theta shape: \", theta.shape)"
   ]
  },
  {
   "cell_type": "markdown",
   "metadata": {},
   "source": [
    "**Testing our model**"
   ]
  },
  {
   "cell_type": "code",
   "execution_count": 7,
   "metadata": {},
   "outputs": [
    {
     "name": "stdout",
     "output_type": "stream",
     "text": [
      "MAE 3.654122634752182\n",
      "MSE 22.254606947509647\n"
     ]
    }
   ],
   "source": [
    "prediction = np.dot(X_test,theta)\n",
    "\n",
    "print(\"MAE\", metrics.mean_absolute_error(y_true=y_test,y_pred = prediction))\n",
    "print(\"MSE\", metrics.mean_squared_error(y_true=y_test,y_pred = prediction))"
   ]
  },
  {
   "cell_type": "markdown",
   "metadata": {},
   "source": [
    "**Checking convergence of cost function**"
   ]
  },
  {
   "cell_type": "code",
   "execution_count": 8,
   "metadata": {},
   "outputs": [],
   "source": [
    "import matplotlib.pyplot as plt"
   ]
  },
  {
   "cell_type": "code",
   "execution_count": 9,
   "metadata": {},
   "outputs": [
    {
     "data": {
      "text/plain": [
       "[<matplotlib.lines.Line2D at 0x7fa872714410>]"
      ]
     },
     "execution_count": 9,
     "metadata": {},
     "output_type": "execute_result"
    },
    {
     "data": {
      "image/png": "[encoded data removed]",
      "text/plain": [
       "<Figure size 432x288 with 1 Axes>"
      ]
     },
     "metadata": {
      "needs_background": "light"
     },
     "output_type": "display_data"
    }
   ],
   "source": [
    "plt.scatter(X_test[:,1],y_test)\n",
    "plt.plot(X_test[:,1],prediction,color = 'red')"
   ]
  },
  {
   "cell_type": "code",
   "execution_count": 10,
   "metadata": {},
   "outputs": [
    {
     "data": {
      "text/plain": [
       "[<matplotlib.lines.Line2D at 0x7fa8733a7350>]"
      ]
     },
     "execution_count": 10,
     "metadata": {},
     "output_type": "execute_result"
    },
    {
     "data": {
      "image/png": "[encoded data removed]",
      "text/plain": [
       "<Figure size 432x288 with 1 Axes>"
      ]
     },
     "metadata": {
      "needs_background": "light"
     },
     "output_type": "display_data"
    }
   ],
   "source": [
    "plt.xlabel(\"Iterations\")\n",
    "plt.ylabel(\"Cost Function\")\n",
    "plt.plot(iterations,j_history)"
   ]
  },
  {
   "cell_type": "code",
   "execution_count": null,
   "metadata": {},
   "outputs": [],
   "source": []
  }
 ],
 "metadata": {
  "kernelspec": {
   "display_name": "Python 3",
   "language": "python",
   "name": "python3"
  },
  "language_info": {
   "codemirror_mode": {
    "name": "ipython",
    "version": 3
   },
   "file_extension": ".py",
   "mimetype": "text/x-python",
   "name": "python",
   "nbconvert_exporter": "python",
   "pygments_lexer": "ipython3",
   "version": "3.7.4"
  }
 },
 "nbformat": 4,
 "nbformat_minor": 2
}
