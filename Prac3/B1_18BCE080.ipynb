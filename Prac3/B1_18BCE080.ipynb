{
 "cells": [
  {
   "cell_type": "markdown",
   "metadata": {},
   "source": [
    "# Part 1\n",
    "# Implementing Multivariate Linear Regression using Gradient Descent"
   ]
  },
  {
   "cell_type": "markdown",
   "metadata": {},
   "source": [
    "**Importing necessary libraries and datasets**"
   ]
  },
  {
   "cell_type": "code",
   "execution_count": 1,
   "metadata": {},
   "outputs": [],
   "source": [
    "import numpy as np\n",
    "from sklearn import metrics, datasets,linear_model\n",
    "from sklearn.preprocessing import StandardScaler"
   ]
  },
  {
   "cell_type": "code",
   "execution_count": 2,
   "metadata": {},
   "outputs": [
    {
     "data": {
      "text/plain": [
       "(506, 13)"
      ]
     },
     "execution_count": 2,
     "metadata": {},
     "output_type": "execute_result"
    }
   ],
   "source": [
    "X,y = datasets.load_boston(return_X_y = True)\n",
    "# X,y = datasets.load_diabetes(return_X_y = True)\n",
    "X.shape"
   ]
  },
  {
   "cell_type": "markdown",
   "metadata": {},
   "source": [
    "**Dividing the data into training set and testing set**"
   ]
  },
  {
   "cell_type": "code",
   "execution_count": 3,
   "metadata": {},
   "outputs": [
    {
     "name": "stdout",
     "output_type": "stream",
     "text": [
      "(400, 14)\n",
      "(400,)\n",
      "[[1. 0. 0. ... 0. 0. 0.]\n",
      " [1. 0. 0. ... 0. 0. 0.]\n",
      " [1. 0. 0. ... 0. 0. 0.]\n",
      " ...\n",
      " [1. 0. 0. ... 0. 0. 0.]\n",
      " [1. 0. 0. ... 0. 0. 0.]\n",
      " [1. 0. 0. ... 0. 0. 0.]]\n",
      "(400, 14)\n",
      "(400,)\n"
     ]
    }
   ],
   "source": [
    "X_train = X[0:400,:]\n",
    "\n",
    "# create a temp array with all zeros of shape (400,14) for adding one extra column of ones\n",
    "shape_tuple = (X_train.shape[0], X_train.shape[1] + 1);\n",
    "X_temp = np.zeros(shape_tuple)\n",
    "print(X_temp.shape)\n",
    "\n",
    "# create a column vector of shape (400,1) containing all the ones for X0\n",
    "column1 = np.ones(X_train.shape[0])\n",
    "print(column1.shape)\n",
    "\n",
    "# add this column as the first column of X_temp\n",
    "X_temp[:,0] = column1;\n",
    "print(X_temp)\n",
    "\n",
    "# add the rest of the training data to it and finally assign it back to X_train\n",
    "X_temp[:,1:] = X_train;\n",
    "X_train = X_temp;\n",
    "print(X_train.shape)\n",
    "\n",
    "\n",
    "# getting our y_train vector\n",
    "y_train = y[0:400]\n",
    "print(y_train.shape)"
   ]
  },
  {
   "cell_type": "code",
   "execution_count": 4,
   "metadata": {},
   "outputs": [
    {
     "name": "stdout",
     "output_type": "stream",
     "text": [
      "(106, 13)\n",
      "(106, 14)\n",
      "(106,)\n"
     ]
    }
   ],
   "source": [
    "# remaining data will be our testing data\n",
    "\n",
    "X_test = X[400:,:]\n",
    "print(X_test.shape)\n",
    "\n",
    "# create a temp array with all zeros of shape (400,14) for adding one extra column of ones\n",
    "shape_tuple = (X_test.shape[0], X_test.shape[1] + 1);\n",
    "X_temp = np.zeros(shape_tuple)\n",
    "\n",
    "# create a column vector of shape (400,1) containing all the ones for X0\n",
    "column1 = np.ones(X_test.shape[0])\n",
    "\n",
    "# add this column as the first column of X_temp\n",
    "X_temp[:,0] = column1;\n",
    "\n",
    "# add the rest of the training data to it and finally assign it back to X_train\n",
    "X_temp[:,1:] = X_test;\n",
    "X_test = X_temp;\n",
    "print(X_test.shape)\n",
    "\n",
    "# getting our y_test vector\n",
    "y_test = y[400:]\n",
    "print(y_test.shape)"
   ]
  },
  {
   "cell_type": "markdown",
   "metadata": {},
   "source": [
    "**Performing feature scaling**"
   ]
  },
  {
   "cell_type": "code",
   "execution_count": 5,
   "metadata": {},
   "outputs": [
    {
     "name": "stdout",
     "output_type": "stream",
     "text": [
      "[0.64178649 0.86412813 0.75983585 0.31306369 0.86354682 0.95613656\n",
      " 0.49222143 0.2776789  0.9573146  0.7944825  0.25754235 0.81103985\n",
      " 0.47773532 0.46537789]\n"
     ]
    }
   ],
   "source": [
    "# initializing the theta vector with random uniform values between 0 and 1\n",
    "# shape of theta is (14,1)\n",
    "theta = np.random.uniform(0,1,X_train.shape[1])\n",
    "print(theta)\n",
    "\n",
    "# feature scaling the X_train data to bring the range of values of all columns in [0,1]\n",
    "scaler = StandardScaler()\n",
    "\n",
    "# ftting the data (i.e. finding out the mean and standard dev for normalization)\n",
    "scaler.fit(X_train[:,1:])\n",
    "\n",
    "# scaling the data and assigning it back to X_train and X_test\n",
    "X_train[:,1:] = scaler.transform(X_train[:,1:])\n",
    "X_test[:,1:] = scaler.transform(X_test[:,1:])"
   ]
  },
  {
   "cell_type": "markdown",
   "metadata": {},
   "source": [
    "**Performing Gradient Descent**"
   ]
  },
  {
   "cell_type": "code",
   "execution_count": 6,
   "metadata": {},
   "outputs": [
    {
     "name": "stdout",
     "output_type": "stream",
     "text": [
      "Theta vector:  [24.18038415 -0.83866184  0.72780665 -0.15471083  0.62358641 -0.40622362\n",
      "  3.94873249 -0.02883078 -1.86434103  1.57204932 -0.8848799  -1.48566906\n",
      "  0.16698161 -3.42007027]\n",
      "Theta shape:  (14,)\n"
     ]
    }
   ],
   "source": [
    "epochs = 500\n",
    "alpha = 0.01\n",
    "m = X_train.shape[0]\n",
    "n = X_train.shape[1]\n",
    "j_history = np.zeros(epochs);\n",
    "iterations = np.zeros(epochs);\n",
    "\n",
    "for i in range(0,epochs+1):\n",
    "#     calculating the hypothesis function/ y_predicted by dot product of X_train and theta\n",
    "#     X_train.shape = (400,14), theta.shape = (14,1), thus h.shape = (400,1). \n",
    "#     This way we predict 400 values from the given data\n",
    "    h = np.dot(X_train,theta)\n",
    "    \n",
    "#     calculating the error between the original and the predicted values\n",
    "#     h.shape = y_train.shape = (400,1), error.shape = (400,1)\n",
    "    error = h - y_train;\n",
    "    \n",
    "#     reducing theta by the formula theta = theta - (alpha/m) * sum(h(i)-y(i)).x(i)\n",
    "#     X_train.shape = (400,14), error.shape(400,1), thus we take transpose of X_train to give theta.shape = (14,1)\n",
    "    theta = theta - ((alpha/m) * (X_train.T.dot(error)))\n",
    "    \n",
    "    if (i != epochs):\n",
    "        j_history[i] = (1/(2*m)) * np.sum((h-y_train)**2)\n",
    "        iterations[i] = i\n",
    "    \n",
    "print(\"Theta vector: \", theta)\n",
    "print(\"Theta shape: \", theta.shape)"
   ]
  },
  {
   "cell_type": "markdown",
   "metadata": {},
   "source": [
    "**Testing our model**"
   ]
  },
  {
   "cell_type": "code",
   "execution_count": 7,
   "metadata": {},
   "outputs": [
    {
     "name": "stdout",
     "output_type": "stream",
     "text": [
      "MAE 4.4781092957089035\n",
      "MSE 29.51416944615524\n"
     ]
    }
   ],
   "source": [
    "prediction = np.dot(X_test,theta)\n",
    "\n",
    "print(\"MAE\", metrics.mean_absolute_error(y_true=y_test,y_pred = prediction))\n",
    "print(\"MSE\", metrics.mean_squared_error(y_true=y_test,y_pred = prediction))"
   ]
  },
  {
   "cell_type": "markdown",
   "metadata": {},
   "source": [
    "**Checking convergence of cost function**"
   ]
  },
  {
   "cell_type": "code",
   "execution_count": 8,
   "metadata": {},
   "outputs": [],
   "source": [
    "import matplotlib.pyplot as plt"
   ]
  },
  {
   "cell_type": "code",
   "execution_count": 9,
   "metadata": {},
   "outputs": [
    {
     "data": {
      "text/plain": [
       "[<matplotlib.lines.Line2D at 0x7fe18a1b2fd0>]"
      ]
     },
     "execution_count": 9,
     "metadata": {},
     "output_type": "execute_result"
    },
    {
     "data": {
      "image/png": "[encoded data removed]",
      "text/plain": [
       "<Figure size 432x288 with 1 Axes>"
      ]
     },
     "metadata": {
      "needs_background": "light"
     },
     "output_type": "display_data"
    }
   ],
   "source": [
    "plt.xlabel(\"Iterations\")\n",
    "plt.ylabel(\"Cost Function\")\n",
    "plt.plot(iterations,j_history)"
   ]
  },
  {
   "cell_type": "markdown",
   "metadata": {},
   "source": [
    "# Part 2\n",
    "# Multivariate Linear Regression using Normal Equation"
   ]
  },
  {
   "cell_type": "code",
   "execution_count": 10,
   "metadata": {},
   "outputs": [
    {
     "data": {
      "text/plain": [
       "array([24.3345    , -1.14370921,  1.12191092,  0.35913222,  0.48497247,\n",
       "       -1.7061696 ,  3.58169796,  0.07554815, -2.8156326 ,  3.05189603,\n",
       "       -1.97502535, -1.7937352 , -0.05252128, -3.50239563])"
      ]
     },
     "execution_count": 10,
     "metadata": {},
     "output_type": "execute_result"
    }
   ],
   "source": [
    "# implementing theta = (X'X)^-1(X'Y)\n",
    "\n",
    "A = np.linalg.pinv(np.dot(X_train.T,X_train))\n",
    "B = np.dot(X_train.T,y_train)\n",
    "\n",
    "theta = np.dot(A,B)\n",
    "theta"
   ]
  },
  {
   "cell_type": "markdown",
   "metadata": {},
   "source": [
    "**Testing our model**"
   ]
  },
  {
   "cell_type": "code",
   "execution_count": 11,
   "metadata": {},
   "outputs": [
    {
     "name": "stdout",
     "output_type": "stream",
     "text": [
      "MAE 5.14223221446533\n",
      "MSE 37.89377859960243\n"
     ]
    }
   ],
   "source": [
    "prediction = np.dot(X_test,theta)\n",
    "\n",
    "print(\"MAE\", metrics.mean_absolute_error(y_true=y_test,y_pred = prediction))\n",
    "print(\"MSE\", metrics.mean_squared_error(y_true=y_test,y_pred = prediction))"
   ]
  },
  {
   "cell_type": "markdown",
   "metadata": {},
   "source": [
    "# Additional Exercise\n",
    "# Multivariate Linear Regression using Sklearn"
   ]
  },
  {
   "cell_type": "code",
   "execution_count": 12,
   "metadata": {},
   "outputs": [
    {
     "name": "stdout",
     "output_type": "stream",
     "text": [
      "(442, 10)\n",
      "Mean squared error: 1668.7496675899772\n"
     ]
    }
   ],
   "source": [
    "diabetes_X, diabetes_y = datasets.load_diabetes(return_X_y=True)\n",
    "print(diabetes_X.shape)\n",
    "\n",
    "# Split the data into training/testing sets\n",
    "diabetes_X_train = diabetes_X[0:400,:]\n",
    "diabetes_X_test = diabetes_X[400:,]\n",
    "\n",
    "# Split the targets into training/testing sets\n",
    "diabetes_y_train = diabetes_y[0:400]\n",
    "diabetes_y_test = diabetes_y[400:]\n",
    "\n",
    "# Create linear regression object\n",
    "regression = linear_model.LinearRegression()\n",
    "\n",
    "# Train the model using the training sets\n",
    "regression.fit(diabetes_X_train, diabetes_y_train)\n",
    "\n",
    "# Make predictions using the testing set\n",
    "diabetes_y_pred = regression.predict(diabetes_X_test)\n",
    "\n",
    "print('Mean squared error: {}'.format(metrics.mean_squared_error(diabetes_y_test, diabetes_y_pred)))"
   ]
  }
 ],
 "metadata": {
  "kernelspec": {
   "display_name": "Python 3",
   "language": "python",
   "name": "python3"
  },
  "language_info": {
   "codemirror_mode": {
    "name": "ipython",
    "version": 3
   },
   "file_extension": ".py",
   "mimetype": "text/x-python",
   "name": "python",
   "nbconvert_exporter": "python",
   "pygments_lexer": "ipython3",
   "version": "3.7.4"
  }
 },
 "nbformat": 4,
 "nbformat_minor": 2
}
