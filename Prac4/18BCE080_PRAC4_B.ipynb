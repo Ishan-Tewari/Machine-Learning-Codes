{
 "cells": [
  {
   "cell_type": "markdown",
   "metadata": {},
   "source": [
    "# Implementing Multivariate Linear Regression using Normal Equation"
   ]
  },
  {
   "cell_type": "markdown",
   "metadata": {},
   "source": [
    "**Importing necessary libraries and datasets**"
   ]
  },
  {
   "cell_type": "code",
   "execution_count": 13,
   "metadata": {},
   "outputs": [],
   "source": [
    "import numpy as np\n",
    "from sklearn import metrics, datasets\n",
    "from sklearn.preprocessing import StandardScaler"
   ]
  },
  {
   "cell_type": "code",
   "execution_count": 14,
   "metadata": {},
   "outputs": [
    {
     "data": {
      "text/plain": [
       "(506, 13)"
      ]
     },
     "execution_count": 14,
     "metadata": {},
     "output_type": "execute_result"
    }
   ],
   "source": [
    "X,y = datasets.load_boston(return_X_y = True)\n",
    "X.shape"
   ]
  },
  {
   "cell_type": "markdown",
   "metadata": {},
   "source": [
    "**Dividing the data into training set and testing set**"
   ]
  },
  {
   "cell_type": "code",
   "execution_count": 15,
   "metadata": {},
   "outputs": [
    {
     "name": "stdout",
     "output_type": "stream",
     "text": [
      "(400, 14)\n",
      "(400,)\n",
      "[[1. 0. 0. ... 0. 0. 0.]\n",
      " [1. 0. 0. ... 0. 0. 0.]\n",
      " [1. 0. 0. ... 0. 0. 0.]\n",
      " ...\n",
      " [1. 0. 0. ... 0. 0. 0.]\n",
      " [1. 0. 0. ... 0. 0. 0.]\n",
      " [1. 0. 0. ... 0. 0. 0.]]\n",
      "(400, 14)\n",
      "(400,)\n"
     ]
    }
   ],
   "source": [
    "X_train = X[0:400,:]\n",
    "\n",
    "# create a temp array with all zeros of shape (400,14) for adding one extra column of ones\n",
    "shape_tuple = (X_train.shape[0], X_train.shape[1] + 1);\n",
    "X_temp = np.zeros(shape_tuple)\n",
    "print(X_temp.shape)\n",
    "\n",
    "# create a column vector of shape (400,1) containing all the ones for X0\n",
    "column1 = np.ones(X_train.shape[0])\n",
    "print(column1.shape)\n",
    "\n",
    "# add this column as the first column of X_temp\n",
    "X_temp[:,0] = column1;\n",
    "print(X_temp)\n",
    "\n",
    "# add the rest of the training data to it and finally assign it back to X_train\n",
    "X_temp[:,1:] = X_train;\n",
    "X_train = X_temp;\n",
    "print(X_train.shape)\n",
    "\n",
    "\n",
    "# getting our y_train vector\n",
    "y_train = y[0:400]\n",
    "print(y_train.shape)"
   ]
  },
  {
   "cell_type": "code",
   "execution_count": 16,
   "metadata": {},
   "outputs": [
    {
     "name": "stdout",
     "output_type": "stream",
     "text": [
      "(106, 13)\n",
      "(106, 14)\n",
      "(106,)\n"
     ]
    }
   ],
   "source": [
    "# remaining data will be our testing data\n",
    "\n",
    "X_test = X[400:,:]\n",
    "print(X_test.shape)\n",
    "\n",
    "# create a temp array with all zeros of shape (400,14) for adding one extra column of ones\n",
    "shape_tuple = (X_test.shape[0], X_test.shape[1] + 1);\n",
    "X_temp = np.zeros(shape_tuple)\n",
    "\n",
    "# create a column vector of shape (400,1) containing all the ones for X0\n",
    "column1 = np.ones(X_test.shape[0])\n",
    "\n",
    "# add this column as the first column of X_temp\n",
    "X_temp[:,0] = column1;\n",
    "\n",
    "# add the rest of the training data to it and finally assign it back to X_train\n",
    "X_temp[:,1:] = X_test;\n",
    "X_test = X_temp;\n",
    "print(X_test.shape)\n",
    "\n",
    "# getting our y_test vector\n",
    "y_test = y[400:]\n",
    "print(y_test.shape)"
   ]
  },
  {
   "cell_type": "markdown",
   "metadata": {},
   "source": [
    "**Performing feature scaling**"
   ]
  },
  {
   "cell_type": "code",
   "execution_count": 17,
   "metadata": {},
   "outputs": [
    {
     "name": "stdout",
     "output_type": "stream",
     "text": [
      "[7.61876394e-01 5.42441204e-04 3.49897535e-01 6.85954341e-01\n",
      " 7.08761091e-01 4.42559752e-01 4.12520151e-01 6.89778479e-01\n",
      " 5.65254106e-01 6.44641276e-01 3.31107132e-01 5.37984298e-01\n",
      " 5.82169032e-01 4.88221293e-01]\n"
     ]
    }
   ],
   "source": [
    "# initializing the theta vector with random uniform values between 0 and 1\n",
    "# shape of theta is (14,1)\n",
    "theta = np.random.uniform(0,1,X_train.shape[1])\n",
    "print(theta)\n",
    "\n",
    "# feature scaling the X_train data to bring the range of values of all columns in [0,1]\n",
    "scaler = StandardScaler()\n",
    "\n",
    "# ftting the data (i.e. finding out the mean and standard dev for normalization)\n",
    "scaler.fit(X_train[:,1:])\n",
    "\n",
    "# scaling the data and assigning it back to X_train and X_test\n",
    "X_train[:,1:] = scaler.transform(X_train[:,1:])\n",
    "X_test[:,1:] = scaler.transform(X_test[:,1:])"
   ]
  },
  {
   "cell_type": "markdown",
   "metadata": {},
   "source": [
    "**Applying Normal Equation**"
   ]
  },
  {
   "cell_type": "code",
   "execution_count": 18,
   "metadata": {},
   "outputs": [
    {
     "data": {
      "text/plain": [
       "array([24.3345    , -0.51293403,  0.49275107, -0.39355658,  0.59766748,\n",
       "       -0.37157604,  2.73831488, -0.14346448, -0.9703047 ,  0.50597191,\n",
       "       -0.36866427, -1.27004253,  0.21190041, -2.33481914])"
      ]
     },
     "execution_count": 18,
     "metadata": {},
     "output_type": "execute_result"
    }
   ],
   "source": [
    "lamb = 250\n",
    "L = np.zeros((X_train.shape[1],X_train.shape[1]))\n",
    "for i in range(1,L.shape[0]):\n",
    "    L[i,i] = 1\n",
    "A = np.linalg.pinv(np.dot(X_train.T,X_train) + (lamb * L))\n",
    "B = np.dot(X_train.T,y_train)\n",
    "\n",
    "theta = np.dot(A,B)\n",
    "theta"
   ]
  },
  {
   "cell_type": "markdown",
   "metadata": {},
   "source": [
    "**Testing our model**"
   ]
  },
  {
   "cell_type": "code",
   "execution_count": 19,
   "metadata": {},
   "outputs": [
    {
     "name": "stdout",
     "output_type": "stream",
     "text": [
      "MAE 3.8656976463937753\n",
      "MSE 22.01574870698202\n"
     ]
    }
   ],
   "source": [
    "prediction = np.dot(X_test,theta)\n",
    "\n",
    "print(\"MAE\", metrics.mean_absolute_error(y_true=y_test,y_pred = prediction))\n",
    "print(\"MSE\", metrics.mean_squared_error(y_true=y_test,y_pred = prediction))"
   ]
  },
  {
   "cell_type": "code",
   "execution_count": null,
   "metadata": {},
   "outputs": [],
   "source": []
  }
 ],
 "metadata": {
  "kernelspec": {
   "display_name": "Python 3",
   "language": "python",
   "name": "python3"
  },
  "language_info": {
   "codemirror_mode": {
    "name": "ipython",
    "version": 3
   },
   "file_extension": ".py",
   "mimetype": "text/x-python",
   "name": "python",
   "nbconvert_exporter": "python",
   "pygments_lexer": "ipython3",
   "version": "3.7.4"
  }
 },
 "nbformat": 4,
 "nbformat_minor": 2
}
