{
 "cells": [
  {
   "cell_type": "markdown",
   "metadata": {},
   "source": [
    "# Implementing Multivariate Linear Regression with Regularization"
   ]
  },
  {
   "cell_type": "markdown",
   "metadata": {},
   "source": [
    "**Importing necessary libraries and datasets**"
   ]
  },
  {
   "cell_type": "code",
   "execution_count": 1,
   "metadata": {},
   "outputs": [],
   "source": [
    "import numpy as np\n",
    "from sklearn import metrics, datasets,linear_model\n",
    "from sklearn.preprocessing import StandardScaler"
   ]
  },
  {
   "cell_type": "code",
   "execution_count": 2,
   "metadata": {},
   "outputs": [
    {
     "data": {
      "text/plain": [
       "(506, 13)"
      ]
     },
     "execution_count": 2,
     "metadata": {},
     "output_type": "execute_result"
    }
   ],
   "source": [
    "X,y = datasets.load_boston(return_X_y = True)\n",
    "# X,y = datasets.load_diabetes(return_X_y = True)\n",
    "X.shape"
   ]
  },
  {
   "cell_type": "markdown",
   "metadata": {},
   "source": [
    "**Dividing the data into training set and testing set**"
   ]
  },
  {
   "cell_type": "code",
   "execution_count": 3,
   "metadata": {},
   "outputs": [
    {
     "name": "stdout",
     "output_type": "stream",
     "text": [
      "(400, 14)\n",
      "(400,)\n",
      "[[1. 0. 0. ... 0. 0. 0.]\n",
      " [1. 0. 0. ... 0. 0. 0.]\n",
      " [1. 0. 0. ... 0. 0. 0.]\n",
      " ...\n",
      " [1. 0. 0. ... 0. 0. 0.]\n",
      " [1. 0. 0. ... 0. 0. 0.]\n",
      " [1. 0. 0. ... 0. 0. 0.]]\n",
      "(400, 14)\n",
      "(400,)\n"
     ]
    }
   ],
   "source": [
    "X_train = X[0:400,:]\n",
    "\n",
    "# create a temp array with all zeros of shape (400,14) for adding one extra column of ones\n",
    "shape_tuple = (X_train.shape[0], X_train.shape[1] + 1);\n",
    "X_temp = np.zeros(shape_tuple)\n",
    "print(X_temp.shape)\n",
    "\n",
    "# create a column vector of shape (400,1) containing all the ones for X0\n",
    "column1 = np.ones(X_train.shape[0])\n",
    "print(column1.shape)\n",
    "\n",
    "# add this column as the first column of X_temp\n",
    "X_temp[:,0] = column1;\n",
    "print(X_temp)\n",
    "\n",
    "# add the rest of the training data to it and finally assign it back to X_train\n",
    "X_temp[:,1:] = X_train;\n",
    "X_train = X_temp;\n",
    "print(X_train.shape)\n",
    "\n",
    "\n",
    "# getting our y_train vector\n",
    "y_train = y[0:400]\n",
    "print(y_train.shape)"
   ]
  },
  {
   "cell_type": "code",
   "execution_count": 4,
   "metadata": {},
   "outputs": [
    {
     "name": "stdout",
     "output_type": "stream",
     "text": [
      "(106, 13)\n",
      "(106, 14)\n",
      "(106,)\n"
     ]
    }
   ],
   "source": [
    "# remaining data will be our testing data\n",
    "\n",
    "X_test = X[400:,:]\n",
    "print(X_test.shape)\n",
    "\n",
    "# create a temp array with all zeros of shape (400,14) for adding one extra column of ones\n",
    "shape_tuple = (X_test.shape[0], X_test.shape[1] + 1);\n",
    "X_temp = np.zeros(shape_tuple)\n",
    "\n",
    "# create a column vector of shape (400,1) containing all the ones for X0\n",
    "column1 = np.ones(X_test.shape[0])\n",
    "\n",
    "# add this column as the first column of X_temp\n",
    "X_temp[:,0] = column1;\n",
    "\n",
    "# add the rest of the training data to it and finally assign it back to X_train\n",
    "X_temp[:,1:] = X_test;\n",
    "X_test = X_temp;\n",
    "print(X_test.shape)\n",
    "\n",
    "# getting our y_test vector\n",
    "y_test = y[400:]\n",
    "print(y_test.shape)"
   ]
  },
  {
   "cell_type": "markdown",
   "metadata": {},
   "source": [
    "**Performing feature scaling**"
   ]
  },
  {
   "cell_type": "code",
   "execution_count": 5,
   "metadata": {},
   "outputs": [
    {
     "name": "stdout",
     "output_type": "stream",
     "text": [
      "[0.16835023 0.49088611 0.88289359 0.28850817 0.83930879 0.22870558\n",
      " 0.82621311 0.32828494 0.95187766 0.31411452 0.19376779 0.12258663\n",
      " 0.89482624 0.41542099]\n"
     ]
    }
   ],
   "source": [
    "# initializing the theta vector with random uniform values between 0 and 1\n",
    "# shape of theta is (14,1)\n",
    "theta = np.random.uniform(0,1,X_train.shape[1])\n",
    "print(theta)\n",
    "\n",
    "# feature scaling the X_train data to bring the range of values of all columns in [0,1]\n",
    "scaler = StandardScaler()\n",
    "\n",
    "# ftting the data (i.e. finding out the mean and standard dev for normalization)\n",
    "scaler.fit(X_train[:,1:])\n",
    "\n",
    "# scaling the data and assigning it back to X_train and X_test\n",
    "X_train[:,1:] = scaler.transform(X_train[:,1:])\n",
    "X_test[:,1:] = scaler.transform(X_test[:,1:])"
   ]
  },
  {
   "cell_type": "markdown",
   "metadata": {},
   "source": [
    "## 1. Using Gradient Descent"
   ]
  },
  {
   "cell_type": "code",
   "execution_count": 6,
   "metadata": {},
   "outputs": [
    {
     "name": "stdout",
     "output_type": "stream",
     "text": [
      "Theta vector:  [24.17730456 -0.50990196  0.48875356 -0.39235334  0.5988887  -0.3576232\n",
      "  2.74579981 -0.14120621 -0.95207942  0.4960241  -0.36467398 -1.26714608\n",
      "  0.21429585 -2.3311631 ]\n",
      "Theta shape:  (14,)\n"
     ]
    }
   ],
   "source": [
    "epochs = 500\n",
    "alpha = 0.01\n",
    "m = X_train.shape[0]\n",
    "n = X_train.shape[1]\n",
    "j_history = np.zeros(epochs);\n",
    "iterations = np.zeros(epochs);\n",
    "lamb = 250\n",
    "\n",
    "for i in range(0,epochs+1):\n",
    "#     calculating the hypothesis function/ y_predicted by dot product of X_train and theta\n",
    "#     X_train.shape = (400,14), theta.shape = (14,1), thus h.shape = (400,1). \n",
    "#     This way we predict 400 values from the given data\n",
    "    h = np.dot(X_train,theta)\n",
    "    \n",
    "#     calculating the error between the original and the predicted values\n",
    "#     h.shape = y_train.shape = (400,1), error.shape = (400,1)\n",
    "    error = h - y_train;\n",
    "    \n",
    "#     reducing theta by the formula theta = theta - (alpha/m) * sum(h(i)-y(i)).x(i)\n",
    "#     X_train.shape = (400,14), error.shape(400,1), thus we take transpose of X_train to give theta.shape = (14,1)\n",
    "    theta[0] = theta[0] - ((alpha/m) * (X_train.T.dot(error))[0])\n",
    "    theta[1:] = (theta[1:]*(1-(alpha * lamb)/m)) - ((alpha/m) * (X_train.T.dot(error))[1:]) \n",
    "    \n",
    "    if (i != epochs):\n",
    "        j_history[i] = (1/(2*m)) * np.sum((h-y_train)**2)\n",
    "        iterations[i] = i\n",
    "    \n",
    "print(\"Theta vector: \", theta)\n",
    "print(\"Theta shape: \", theta.shape)"
   ]
  },
  {
   "cell_type": "markdown",
   "metadata": {},
   "source": [
    "**Testing our model**"
   ]
  },
  {
   "cell_type": "code",
   "execution_count": 7,
   "metadata": {},
   "outputs": [
    {
     "name": "stdout",
     "output_type": "stream",
     "text": [
      "MAE 3.7836966627374946\n",
      "MSE 21.233585263944637\n"
     ]
    }
   ],
   "source": [
    "prediction = np.dot(X_test,theta)\n",
    "\n",
    "print(\"MAE\", metrics.mean_absolute_error(y_true=y_test,y_pred = prediction))\n",
    "print(\"MSE\", metrics.mean_squared_error(y_true=y_test,y_pred = prediction))"
   ]
  },
  {
   "cell_type": "markdown",
   "metadata": {},
   "source": [
    "**Checking convergence of cost function**"
   ]
  },
  {
   "cell_type": "code",
   "execution_count": 8,
   "metadata": {},
   "outputs": [],
   "source": [
    "import matplotlib.pyplot as plt"
   ]
  },
  {
   "cell_type": "code",
   "execution_count": 9,
   "metadata": {},
   "outputs": [
    {
     "data": {
      "text/plain": [
       "[<matplotlib.lines.Line2D at 0x7fcec50b04d0>]"
      ]
     },
     "execution_count": 9,
     "metadata": {},
     "output_type": "execute_result"
    },
    {
     "data": {
      "image/png": "[encoded data removed]",
      "text/plain": [
       "<Figure size 432x288 with 1 Axes>"
      ]
     },
     "metadata": {
      "needs_background": "light"
     },
     "output_type": "display_data"
    }
   ],
   "source": [
    "plt.xlabel(\"Iterations\")\n",
    "plt.ylabel(\"Cost Function\")\n",
    "plt.plot(iterations,j_history)"
   ]
  },
  {
   "cell_type": "markdown",
   "metadata": {},
   "source": [
    "## 2. Using normal equation"
   ]
  },
  {
   "cell_type": "code",
   "execution_count": 10,
   "metadata": {},
   "outputs": [
    {
     "data": {
      "text/plain": [
       "array([24.3345    , -0.51293403,  0.49275107, -0.39355658,  0.59766748,\n",
       "       -0.37157604,  2.73831488, -0.14346448, -0.9703047 ,  0.50597191,\n",
       "       -0.36866427, -1.27004253,  0.21190041, -2.33481914])"
      ]
     },
     "execution_count": 10,
     "metadata": {},
     "output_type": "execute_result"
    }
   ],
   "source": [
    "lamb = 250\n",
    "L = np.zeros((X_train.shape[1],X_train.shape[1]))\n",
    "for i in range(1,L.shape[0]):\n",
    "    L[i,i] = 1\n",
    "A = np.linalg.pinv(np.dot(X_train.T,X_train) + (lamb * L))\n",
    "B = np.dot(X_train.T,y_train)\n",
    "\n",
    "theta = np.dot(A,B)\n",
    "theta"
   ]
  },
  {
   "cell_type": "markdown",
   "metadata": {},
   "source": [
    "**Testing our model**"
   ]
  },
  {
   "cell_type": "code",
   "execution_count": 11,
   "metadata": {},
   "outputs": [
    {
     "name": "stdout",
     "output_type": "stream",
     "text": [
      "MAE 3.8656976463937753\n",
      "MSE 22.01574870698202\n"
     ]
    }
   ],
   "source": [
    "prediction = np.dot(X_test,theta)\n",
    "\n",
    "print(\"MAE\", metrics.mean_absolute_error(y_true=y_test,y_pred = prediction))\n",
    "print(\"MSE\", metrics.mean_squared_error(y_true=y_test,y_pred = prediction))"
   ]
  }
 ],
 "metadata": {
  "kernelspec": {
   "display_name": "Python 3",
   "language": "python",
   "name": "python3"
  },
  "language_info": {
   "codemirror_mode": {
    "name": "ipython",
    "version": 3
   },
   "file_extension": ".py",
   "mimetype": "text/x-python",
   "name": "python",
   "nbconvert_exporter": "python",
   "pygments_lexer": "ipython3",
   "version": "3.7.4"
  }
 },
 "nbformat": 4,
 "nbformat_minor": 2
}
