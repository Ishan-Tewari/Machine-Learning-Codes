{
 "cells": [
  {
   "cell_type": "markdown",
   "metadata": {
    "id": "spqr1-KgT4-H"
   },
   "source": [
    "# Implementing Gridsearch on knn and regression"
   ]
  },
  {
   "cell_type": "markdown",
   "metadata": {
    "id": "7R_UUGatayRD"
   },
   "source": [
    "**Importing neccessary libraries and datasets**"
   ]
  },
  {
   "cell_type": "code",
   "execution_count": 1,
   "metadata": {
    "id": "j5jql76eTnU7"
   },
   "outputs": [],
   "source": [
    "from sklearn.model_selection import train_test_split,GridSearchCV\n",
    "from sklearn import datasets,metrics,neighbors,linear_model"
   ]
  },
  {
   "cell_type": "markdown",
   "metadata": {
    "id": "i9nCKmKKa5Vd"
   },
   "source": [
    "## Gridsearch on knn"
   ]
  },
  {
   "cell_type": "code",
   "execution_count": 2,
   "metadata": {
    "id": "fb03IKwIUy_K"
   },
   "outputs": [],
   "source": [
    "X,y = datasets.load_iris(return_X_y=True)\n",
    "X_train,X_test,y_train,y_test = train_test_split(X,y,stratify=y,random_state=1)"
   ]
  },
  {
   "cell_type": "code",
   "execution_count": 3,
   "metadata": {
    "colab": {
     "base_uri": "https://localhost:8080/"
    },
    "id": "OcWcb71aVJRa",
    "outputId": "a616675e-88c2-4f6a-f8b9-60f9597b3bba"
   },
   "outputs": [
    {
     "name": "stderr",
     "output_type": "stream",
     "text": [
      "/Users/ishan/opt/anaconda3/lib/python3.7/site-packages/sklearn/model_selection/_search.py:814: DeprecationWarning: The default of the `iid` parameter will change from True to False in version 0.22 and will be removed in 0.24. This will change numeric results when test-set sizes are unequal.\n",
      "  DeprecationWarning)\n"
     ]
    },
    {
     "data": {
      "text/plain": [
       "KNeighborsClassifier(algorithm='auto', leaf_size=30, metric='minkowski',\n",
       "                     metric_params=None, n_jobs=None, n_neighbors=5, p=2,\n",
       "                     weights='uniform')"
      ]
     },
     "execution_count": 3,
     "metadata": {},
     "output_type": "execute_result"
    }
   ],
   "source": [
    "param_grid = {'n_neighbors':[1,5,10,15],\n",
    "              'weights' : ['uniform','distance']}\n",
    "clf = neighbors.KNeighborsClassifier()\n",
    "clf_gs = GridSearchCV(estimator=clf,param_grid=param_grid,cv=5)\n",
    "clf_gs.fit(X_train,y_train)    \n",
    "clf_gs.best_estimator_        "
   ]
  },
  {
   "cell_type": "code",
   "execution_count": 4,
   "metadata": {
    "colab": {
     "base_uri": "https://localhost:8080/"
    },
    "id": "vP0V3L5kV7yP",
    "outputId": "20712f23-0840-4e20-a077-5da669b36d27"
   },
   "outputs": [
    {
     "data": {
      "text/plain": [
       "0.9473684210526315"
      ]
     },
     "execution_count": 4,
     "metadata": {},
     "output_type": "execute_result"
    }
   ],
   "source": [
    "prediction = clf_gs.predict(X_test)\n",
    "metrics.accuracy_score(y_true=y_test,y_pred=prediction)"
   ]
  },
  {
   "cell_type": "markdown",
   "metadata": {
    "id": "F4fC0xoga-xd"
   },
   "source": [
    "## Gridsearch on regression"
   ]
  },
  {
   "cell_type": "code",
   "execution_count": 5,
   "metadata": {
    "id": "mTcFBlTGWYoY"
   },
   "outputs": [],
   "source": [
    "X,y = datasets.load_boston(return_X_y=True)\n",
    "X_train,X_test,y_train,y_test = train_test_split(X,y,random_state=1)"
   ]
  },
  {
   "cell_type": "code",
   "execution_count": 8,
   "metadata": {
    "colab": {
     "base_uri": "https://localhost:8080/"
    },
    "id": "sJHpTXgrW5i0",
    "outputId": "28bca58c-ae63-49e0-a0fb-e61e31068c2f"
   },
   "outputs": [
    {
     "name": "stderr",
     "output_type": "stream",
     "text": [
      "/Users/ishan/opt/anaconda3/lib/python3.7/site-packages/sklearn/model_selection/_split.py:1978: FutureWarning: The default value of cv will change from 3 to 5 in version 0.22. Specify it explicitly to silence this warning.\n",
      "  warnings.warn(CV_WARNING, FutureWarning)\n"
     ]
    },
    {
     "data": {
      "text/plain": [
       "Ridge(alpha=0.1, copy_X=True, fit_intercept=True, max_iter=100, normalize=False,\n",
       "      random_state=None, solver='auto', tol=0.001)"
      ]
     },
     "execution_count": 8,
     "metadata": {},
     "output_type": "execute_result"
    }
   ],
   "source": [
    "param_grid = {'alpha':[0.01,0.1,0.5,1.5,5],'max_iter':[100,200,300,400,500]}\n",
    "reg = linear_model.Ridge()\n",
    "reg_gs = GridSearchCV(estimator=reg,param_grid=param_grid)\n",
    "reg_gs.fit(X_train,y_train)\n",
    "reg_gs.best_estimator_"
   ]
  },
  {
   "cell_type": "code",
   "execution_count": 9,
   "metadata": {
    "colab": {
     "base_uri": "https://localhost:8080/"
    },
    "id": "hSWt3fKQY1Qx",
    "outputId": "02483e07-86cc-4206-f1c5-a704e461bf2b"
   },
   "outputs": [
    {
     "data": {
      "text/plain": [
       "0.7803960789278711"
      ]
     },
     "execution_count": 9,
     "metadata": {},
     "output_type": "execute_result"
    }
   ],
   "source": [
    "prediction = reg_gs.predict(X_test)\n",
    "reg_gs.score(X_test,y_test)"
   ]
  },
  {
   "cell_type": "code",
   "execution_count": null,
   "metadata": {
    "id": "XMv0KUfOabD1"
   },
   "outputs": [],
   "source": []
  }
 ],
 "metadata": {
  "colab": {
   "collapsed_sections": [],
   "name": "18BCE080_Prac9.ipynb",
   "provenance": []
  },
  "kernelspec": {
   "display_name": "Python 3",
   "language": "python",
   "name": "python3"
  },
  "language_info": {
   "codemirror_mode": {
    "name": "ipython",
    "version": 3
   },
   "file_extension": ".py",
   "mimetype": "text/x-python",
   "name": "python",
   "nbconvert_exporter": "python",
   "pygments_lexer": "ipython3",
   "version": "3.7.4"
  }
 },
 "nbformat": 4,
 "nbformat_minor": 1
}
